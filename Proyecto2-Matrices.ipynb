{
  "nbformat": 4,
  "nbformat_minor": 0,
  "metadata": {
    "colab": {
      "provenance": [],
      "include_colab_link": true
    },
    "kernelspec": {
      "name": "python3",
      "display_name": "Python 3"
    },
    "language_info": {
      "name": "python"
    }
  },
  "cells": [
    {
      "cell_type": "markdown",
      "metadata": {
        "id": "view-in-github",
        "colab_type": "text"
      },
      "source": [
        "<a href=\"https://colab.research.google.com/github/Matyrela/algebra-aplicada/blob/main/Proyecto2-Matrices.ipynb\" target=\"_parent\"><img src=\"https://colab.research.google.com/assets/colab-badge.svg\" alt=\"Open In Colab\"/></a>"
      ]
    },
    {
      "cell_type": "markdown",
      "source": [
        "# Proyecto 2: Análisis de imágenes con matrices\n",
        "\n",
        "## Objetivo\n",
        "\n",
        "El objetivo del presente trabajo es que el estudiante pueda aplicar los conceptos y técnicas de manipulación de matrices vistos en el curso, en el contexto del procesamiento de imágenes.\n",
        "\n",
        "## Introducción\n",
        "La capacidad de extraer conocimiento valioso a partir de imágenes, utilizando operaciones algebraicas, es esencial en muchas aplicaciones de Inteligencia Artificial, como la visión por computadora, y otras áreas del campo de la computación.\n",
        "\n",
        "Las imágenes son un conjunto de píxels, que se utilizan para representar colores y tonos, formando en su conjunto la imagen.\n",
        "\n",
        "Una imagen puede ser representada como una matriz, en donde el color de cada píxel está definido por un número entre 0 y 255, indicando la intensidad del brillo (en el caso de imágenes blanco y negro, 0 representa blanco y 255 negro).\n",
        "\n",
        "El tamaño de las imágenes está determinado por su largo, su ancho y el número de canales, que refiere a los canales RGB que conforman los colores (rojo, verde y azul). En el caso de las imágenes a color, el número de canales es igual a 3, representando los 3 colores primarios.\n",
        "\n"
      ],
      "metadata": {
        "id": "SalGSeSEX4j8"
      }
    },
    {
      "cell_type": "markdown",
      "source": [
        "![rgb.jpeg](data:image/jpeg;base64,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)"
      ],
      "metadata": {
        "id": "3F1bJHMNI56H"
      }
    },
    {
      "cell_type": "markdown",
      "source": [
        "A modo ilustrativo de lo anterior, creamos una matriz de 3x3 utilizando la función `array` de `numpy` y la mostramos como una imagen utilizando la función `imshow` del paquete `skimage`. Por defecto, la función interpreta los colores en la escala RGB (Red - rojo, Green - verde , y Blue - azul).\n",
        "\n",
        "Dependiendo de los números que coloquemos en las diferentes entradas de la matriz, el color que va a ser mostrado. *Recomendamos probar con diferentes valores para observar cómo cambia la imagen.*"
      ],
      "metadata": {
        "id": "6bowmTbOI5OH"
      }
    },
    {
      "cell_type": "code",
      "source": [
        "# Importamos las librerias de Python necesarias\n",
        "import numpy as np\n",
        "from skimage.io import imshow, imread\n",
        "import cv2\n",
        "import os\n",
        "\n",
        "# Creamos la matriz de 3x3 y la mostramos como imagen\n",
        "imagen_color_array = np.array([[[255, 0, 0], # color del primer cuadrante\n",
        "                         [0, 255, 0],  # color del segundo cuadrante\n",
        "                         [0, 0, 255]]])  # color del tercer cuadrante\n",
        "imshow(imagen_color_array);"
      ],
      "metadata": {
        "colab": {
          "base_uri": "https://localhost:8080/",
          "height": 229
        },
        "id": "oyLQ8pLdX8Rg",
        "outputId": "c493b39f-abc8-4098-caf8-b703596c1010"
      },
      "execution_count": null,
      "outputs": [
        {
          "output_type": "display_data",
          "data": {
            "text/plain": [
              "<Figure size 640x480 with 2 Axes>"
            ],
            "image/png": "[encoded data removed]"
          },
          "metadata": {}
        }
      ]
    },
    {
      "cell_type": "code",
      "source": [
        "# Tamaño de la imagen\n",
        "imagen_color_array.shape"
      ],
      "metadata": {
        "colab": {
          "base_uri": "https://localhost:8080/"
        },
        "id": "qutyL-dkdrkl",
        "outputId": "5e729af7-b5b5-438d-a446-d549e291b119"
      },
      "execution_count": null,
      "outputs": [
        {
          "output_type": "execute_result",
          "data": {
            "text/plain": [
              "(1, 3, 3)"
            ]
          },
          "metadata": {},
          "execution_count": 7
        }
      ]
    },
    {
      "cell_type": "markdown",
      "source": [
        "Observamos que el tamaño de la imagen está dado por la tupla (1,3,3), indicando que la imagen tiene 1 fila, 3 columnas y 3 canales de color. Una imágen RGB es representada con un array 3D de la forma: (largo, ancho, canales).\n",
        "\n",
        "La imagen anterior fue presentada de modo ilustrativo para introducirnos en el tema. A continuación vamos a estar trabajando con imágenes reales, que elegirá cada alumno para este proyecto.\n",
        "\n",
        "\n"
      ],
      "metadata": {
        "id": "CiUTripudw9Z"
      }
    },
    {
      "cell_type": "markdown",
      "source": [
        "A continuación les proporcionamos una función útil para poder recortar imágenes.\n",
        "\n",
        "La función tiene como argumentos la ruta de la imagen objetivo, la ruta donde deseen guardar la imagen recortada y el largo y ancho deseados para esta última."
      ],
      "metadata": {
        "id": "C3rIjgByx4df"
      }
    },
    {
      "cell_type": "code",
      "source": [
        "def recortar_imagen_v2(ruta_img: str, ruta_img_crop: str, x_inicial: int, x_final: int, y_inicial: int, y_final: int)-> None:\n",
        "    \"\"\"\n",
        "    Esta función recibe una imagen y devuelve otra imagen recortada.\n",
        "\n",
        "    Args:\n",
        "      ruta_img (str): Ruta de la imagen original que se desea recortar.\n",
        "      ruta_img_crop (str): Ruta donde se guardará la imagen recortada.\n",
        "      x_inicial (int): Coordenada x inicial del área de recorte.\n",
        "      x_final (int): Coordenada x final del área de recorte.\n",
        "      y_inicial (int): Coordenada y inicial del área de recorte.\n",
        "      y_final (int): Coordenada y final del área de recorte.\n",
        "\n",
        "    Return\n",
        "      None\n",
        "    \"\"\"\n",
        "    try:\n",
        "        # Abrir la imagen\n",
        "        image = cv2.imread(ruta_img)\n",
        "\n",
        "        # Obtener la imagen recortada\n",
        "        image_crop = image[x_inicial:x_final, y_inicial:y_final]\n",
        "\n",
        "        # Guardar la imagen recortada en la ruta indicada\n",
        "        cv2.imwrite(ruta_img_crop, image_crop)\n",
        "\n",
        "        print(\"Imagen recortada con éxito. El tamaño de la imagen es de\" + str(image_crop.shape))\n",
        "    except Exception as e:\n",
        "        print(\"Ha ocurrido un error:\", str(e))\n"
      ],
      "metadata": {
        "id": "D9NIGTQTnLU8"
      },
      "execution_count": null,
      "outputs": []
    },
    {
      "cell_type": "markdown",
      "source": [
        "Para poder realizar lo que se solicita en la propuesta de la presente entrega, es necesario correr las líneas de código a continuación. El objetivo es montar Google Drive a la máquina virtual de Google Colab.\n",
        "\n",
        "Se debe especificar en la variable `RUTA_TAREA` la ruta donde se van a estar guardando las imágenes que van a ser cargadas a la tarea posteriormente. Además, estas imágenes deben ser entregadas."
      ],
      "metadata": {
        "id": "wZvLbiCSoHsQ"
      }
    },
    {
      "cell_type": "code",
      "source": [
        "# Monta tu Google Drive a la máquina virtual de Colab.\n",
        "from google.colab import drive\n",
        "drive.mount('/content/drive', force_remount=True)\n",
        "\n",
        "# Cambiar el directorio actual al directorio donde se encuentra la tarea.\n",
        "# Especificar la ruta donde se van a guardar los archivos que pide la tarea.\n",
        "# Por ejemplo: '/content/drive/My Drive/Algebra Aplicada UCU'\n",
        "os.chdir('/content/drive/My Drive/UCU/Algebra') #Modificar esta línea"
      ],
      "metadata": {
        "id": "WaPQ9LSMoNyp",
        "colab": {
          "base_uri": "https://localhost:8080/"
        },
        "outputId": "18c428b4-62ce-4ec5-e560-fa89d28fc168"
      },
      "execution_count": null,
      "outputs": [
        {
          "output_type": "stream",
          "name": "stdout",
          "text": [
            "Mounted at /content/drive\n"
          ]
        }
      ]
    },
    {
      "cell_type": "markdown",
      "source": [
        "A continuación solicitamos:\n",
        "1. Cargar dos imagenes a elección utilizando `imread` y mostrarlas como imagen.\n",
        "2. Imprimir el tamaño de cada una de las imágenes.\n",
        "3. Recortar ambas imágenes para que tengan el mismo tamaño, siendo un requisito que la imagen sea **cuadrada**. Mostrar el resultado obtenido como imágenes.\n",
        "\n",
        "  **Recordatorio**: Pueden utilizar la función proporcionada: `recortar_imagen`. Esta función además de recortar la imagen la guarda en el directorio indicado.\n",
        "\n",
        "  Comentar la importancia de este paso en caso de querer realizar operaciones entre las dos imágenes.\n",
        "4. Para **una** de las imágenes recortadas, mostrarla como una matriz. Imprimir el tamaño.\n",
        "5. Calcular la matriz traspuesta de las imágenes del punto 3. Mostrarlas como matriz y como imagen. Comentar los resultados.\n",
        "\n",
        "  **NOTA**: se deben trasponer las coordenadas x,y y dejo igual eje z (canales de RGB).\n",
        "6. Convertir y mostrar las imagenes recortadas a escala de grises.\n",
        "\n",
        "  **NOTA**: recordar que un método para calcular la imagen en escala de grises es promediando los valores de cada color, es decir sumando los tres canales R, G, B de la imagen color y diviendo entre 3: $I_{Grayscale} = (R + G + B ) / 3$.\n",
        "\n",
        "**Del punto 6 en adelante, utilizar las imágenes en blanco y negro obtenidas en dicho punto**\n",
        "7. Verificar para cada una de las matrices correspondientes a las imágenes recortadas, si existe su inversa y en caso de que exista, calcular.\n",
        "8.  Producto de una matriz por un escalar\n",
        "\n",
        "  **Aplicación**: Ajuste de contraste en imágenes:\n",
        "\n",
        "  Como vimos en el curso, una de las operaciones que podemos realizar con matrices, es la multiplicación por un escalar  α. Esta operación se traduce en un cambio en el contraste de la imagen .  𝐼2(𝑥,𝑦)=α𝐼1(𝑥,𝑦)\n",
        "\n",
        "  Observar y comentar qué ocurre con las imagenes del punto 6 al multiplicarla por un escalar  α  en dos casos:\n",
        "    - CASO 1: $\\alpha>1$  \n",
        "    - CASO 2: $0<\\alpha<1$\n",
        "     \n",
        "  Utilizar un escalar a elección dentro de dicho rango de valores. Interpretar el resultado.\n",
        "\n",
        "  **NOTA**: Tener en cuenta que los valores del píxel deben estar entre 0 y 255. Se puede utilizar la función `np.clip` para restringir los valores luego de realizar la operación.\n",
        "\n",
        "  Para este punto **elegir solo una** de las dos imágenes.\n",
        "\n",
        "9.  Multipicación de matrices y prueba de que la multiplicación de matrices no es conmutativa:\n",
        "\n",
        "  Como vimos en el curso, debemos recordar que en la multiplicación de matrices **el orden en el que se multiplican las matrices sí importa,** esto lo podemos ver en las siguientes aplicaciones:\n",
        "\n",
        "  **Aplicación:** Voltear una imágen\n",
        "\n",
        "  Para voltear una imagen alrededor del eje $x$ podemos multiplicar la imagen original por una matriz $W$ con 1's en la anti-diagonal. Para generar esta última matriz, les recomendamos primero generar la matriz identidad del mismo tamaño que la imagen, y luego utilizar la función `np.fliplr` para obtener $W$.\n",
        "\n",
        "  Comentar el resultado. Qué ocurre si invertimos el orden en el que multiplicamos las matrices?\n",
        "\n",
        "10. Calcular el negativo de una de las imagenes utilizando la resta de matrices.\n",
        "\n",
        "    **NOTA**: El negativo de la imagen se calcula restando la matriz que se muestra a continuación a la imagen (matriz_auxiliar - imagen):\n",
        "\n",
        "    \\begin{bmatrix}\n",
        "    255 & 255 & \\dots \\\\\n",
        "    \\vdots & \\ddots & \\\\\n",
        "    255 &        & 255\n",
        "    \\end{bmatrix}"
      ],
      "metadata": {
        "id": "MxG7tJx2gS-G"
      }
    }
  ]
}